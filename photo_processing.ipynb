{
 "cells": [
  {
   "cell_type": "markdown",
   "id": "940a69e8-2e9b-48f3-b630-cc36976d471b",
   "metadata": {},
   "source": [
    "Import openCV library"
   ]
  },
  {
   "cell_type": "code",
   "execution_count": 2,
   "id": "138d3410-eb99-47d5-b47d-977ea05bb732",
   "metadata": {},
   "outputs": [],
   "source": [
    "import cv2 as cv"
   ]
  },
  {
   "cell_type": "markdown",
   "id": "a1b99ad0-589a-4687-9d88-8b8cc93cde4d",
   "metadata": {},
   "source": [
    "read image from image folder"
   ]
  },
  {
   "cell_type": "code",
   "execution_count": 5,
   "id": "65c69225-6fc9-4257-8704-b207811384c7",
   "metadata": {},
   "outputs": [],
   "source": [
    "img = cv.imread(\"./image/car.jpg\")"
   ]
  },
  {
   "cell_type": "markdown",
   "id": "dc53022e-24b8-4e49-b806-3a09d96417d5",
   "metadata": {},
   "source": [
    "show the image in window"
   ]
  },
  {
   "cell_type": "code",
   "execution_count": null,
   "id": "5d3d7720-fe02-4079-a5a4-590ddcb19767",
   "metadata": {},
   "outputs": [],
   "source": [
    "cv.imshow(\"init image\", img)\n",
    "cv.waitKey(0)\n",
    "cv.destroyAllWindows()"
   ]
  }
 ],
 "metadata": {
  "kernelspec": {
   "display_name": "Python [conda env:base] *",
   "language": "python",
   "name": "conda-base-py"
  },
  "language_info": {
   "codemirror_mode": {
    "name": "ipython",
    "version": 3
   },
   "file_extension": ".py",
   "mimetype": "text/x-python",
   "name": "python",
   "nbconvert_exporter": "python",
   "pygments_lexer": "ipython3",
   "version": "3.12.7"
  }
 },
 "nbformat": 4,
 "nbformat_minor": 5
}
