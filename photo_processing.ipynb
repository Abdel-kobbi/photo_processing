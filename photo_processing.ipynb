{
 "cells": [
  {
   "cell_type": "markdown",
   "id": "940a69e8-2e9b-48f3-b630-cc36976d471b",
   "metadata": {},
   "source": [
    "Import openCV library"
   ]
  },
  {
   "cell_type": "code",
   "execution_count": 2,
   "id": "138d3410-eb99-47d5-b47d-977ea05bb732",
   "metadata": {},
   "outputs": [],
   "source": [
    "import cv2 as cv"
   ]
  },
  {
   "cell_type": "markdown",
   "id": "a1b99ad0-589a-4687-9d88-8b8cc93cde4d",
   "metadata": {},
   "source": [
    "read image from image folder"
   ]
  },
  {
   "cell_type": "code",
   "execution_count": 5,
   "id": "65c69225-6fc9-4257-8704-b207811384c7",
   "metadata": {},
   "outputs": [],
   "source": [
    "img = cv.imread(\"./image/car.jpg\")"
   ]
  },
  {
   "cell_type": "markdown",
   "id": "dc53022e-24b8-4e49-b806-3a09d96417d5",
   "metadata": {},
   "source": [
    "show the image in window"
   ]
  },
  {
   "cell_type": "code",
   "execution_count": 8,
   "id": "5d3d7720-fe02-4079-a5a4-590ddcb19767",
   "metadata": {},
   "outputs": [],
   "source": [
    "cv.imshow(\"init image\", img)\n",
    "cv.waitKey(0)\n",
    "cv.destroyAllWindows()"
   ]
  },
  {
   "cell_type": "markdown",
   "id": "e4c0100a-66c6-4e50-bc90-23bd1a20e0c5",
   "metadata": {},
   "source": [
    "change Image to gray mode (Black & White)"
   ]
  },
  {
   "cell_type": "code",
   "execution_count": 11,
   "id": "8610ed2b-8bad-4a41-af62-406fb9f2272e",
   "metadata": {},
   "outputs": [],
   "source": [
    "img_gray = cv.cvtColor(img, cv.COLOR_BGR2GRAY)"
   ]
  },
  {
   "cell_type": "markdown",
   "id": "64f4f90a-bff1-4456-996c-c4c2fa0bade4",
   "metadata": {},
   "source": [
    "show the gray image"
   ]
  },
  {
   "cell_type": "code",
   "execution_count": 14,
   "id": "b1fcfed5-4d0b-4616-8405-9006aa6ec7e0",
   "metadata": {},
   "outputs": [],
   "source": [
    "cv.imshow(\"gray image\", img_gray)\n",
    "cv.waitKey(0)\n",
    "cv.destroyAllWindows()"
   ]
  },
  {
   "cell_type": "markdown",
   "id": "3fb77c21-6374-4668-baef-7a21f2968b28",
   "metadata": {},
   "source": [
    "save the gray image"
   ]
  },
  {
   "cell_type": "code",
   "execution_count": 23,
   "id": "7106fe2a-5f11-40d4-8547-5f58d80ac4af",
   "metadata": {},
   "outputs": [
    {
     "data": {
      "text/plain": [
       "True"
      ]
     },
     "execution_count": 23,
     "metadata": {},
     "output_type": "execute_result"
    }
   ],
   "source": [
    "cv.imwrite('./image/car_gray.jpg', img_gray)"
   ]
  },
  {
   "cell_type": "markdown",
   "id": "3e562a0e-94bd-473d-8654-e077a95cc78a",
   "metadata": {},
   "source": [
    "compress the image and save is"
   ]
  },
  {
   "cell_type": "code",
   "execution_count": 26,
   "id": "120e4496-35a0-4bb9-8cbd-db0f0e000547",
   "metadata": {},
   "outputs": [
    {
     "data": {
      "text/plain": [
       "True"
      ]
     },
     "execution_count": 26,
     "metadata": {},
     "output_type": "execute_result"
    }
   ],
   "source": [
    "cv.imwrite('./image/car_compressed.jpg', img_gray, [int(cv.IMWRITE_JPEG_QUALITY), 30])"
   ]
  },
  {
   "cell_type": "code",
   "execution_count": null,
   "id": "175a62b8-d4c1-4d0a-beca-0f320d08193f",
   "metadata": {},
   "outputs": [],
   "source": []
  }
 ],
 "metadata": {
  "kernelspec": {
   "display_name": "Python [conda env:base] *",
   "language": "python",
   "name": "conda-base-py"
  },
  "language_info": {
   "codemirror_mode": {
    "name": "ipython",
    "version": 3
   },
   "file_extension": ".py",
   "mimetype": "text/x-python",
   "name": "python",
   "nbconvert_exporter": "python",
   "pygments_lexer": "ipython3",
   "version": "3.12.7"
  }
 },
 "nbformat": 4,
 "nbformat_minor": 5
}
