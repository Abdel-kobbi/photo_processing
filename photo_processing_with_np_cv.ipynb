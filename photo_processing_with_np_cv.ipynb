{
 "cells": [
  {
   "cell_type": "markdown",
   "id": "c88f3935-1c52-42cc-a554-62d0b2cf28ea",
   "metadata": {},
   "source": [
    "photo processing with openCV and numpy"
   ]
  },
  {
   "cell_type": "markdown",
   "id": "038c0e30-de0e-4840-bdd5-3c4b699849c7",
   "metadata": {},
   "source": [
    "import openCV and numpy libraries"
   ]
  },
  {
   "cell_type": "code",
   "execution_count": 3,
   "id": "66d18dda-568b-4bf8-a45a-3b2555b10fb2",
   "metadata": {},
   "outputs": [],
   "source": [
    "import cv2 as cv\n",
    "import numpy as np"
   ]
  },
  {
   "cell_type": "markdown",
   "id": "8d53d3fa-20aa-4b67-8ba7-10e108ca513d",
   "metadata": {},
   "source": [
    "read image from image folder"
   ]
  },
  {
   "cell_type": "code",
   "execution_count": 5,
   "id": "9cdff3f9-9e7c-465e-810e-863cae2401d1",
   "metadata": {},
   "outputs": [],
   "source": [
    "img_car = cv.imread(\"./image/car.jpg\")"
   ]
  },
  {
   "cell_type": "markdown",
   "id": "429ec58e-4915-4565-8377-8c151f185a00",
   "metadata": {},
   "source": [
    "change Image to gray mode using numpy"
   ]
  },
  {
   "cell_type": "code",
   "execution_count": 7,
   "id": "499b087a-afff-4800-aa9b-79858bae5640",
   "metadata": {},
   "outputs": [],
   "source": [
    "# Separate Blue, Green, Red channels\n",
    "B = img_car[:, :, 0].astype(float)\n",
    "G = img_car[:, :, 1].astype(float)\n",
    "R = img_car[:, :, 2].astype(float)"
   ]
  },
  {
   "cell_type": "code",
   "execution_count": 8,
   "id": "133f77f1-8f00-4ea2-8a17-ee2044d7ae13",
   "metadata": {},
   "outputs": [],
   "source": [
    "gray = 0.114 * B + 0.587 * G + 0.299 * R"
   ]
  },
  {
   "cell_type": "code",
   "execution_count": 9,
   "id": "fab185ed-28a5-4f22-8b09-0ce6175fc94a",
   "metadata": {},
   "outputs": [],
   "source": [
    "# Convert to 8-bit image\n",
    "gray = gray.astype(np.uint8)"
   ]
  },
  {
   "cell_type": "code",
   "execution_count": 10,
   "id": "e69413f3-1774-4a04-a6d2-0cd5ac29a7b7",
   "metadata": {},
   "outputs": [],
   "source": [
    "cv.imshow(\"Grayscale image\", gray)\n",
    "cv.waitKey(0)\n",
    "cv.destroyAllWindows()"
   ]
  },
  {
   "cell_type": "markdown",
   "id": "2eba9e9c-3c3b-4ac7-84ae-dcb1073a1bac",
   "metadata": {},
   "source": [
    "save the image"
   ]
  },
  {
   "cell_type": "code",
   "execution_count": 12,
   "id": "36fe1365-e53d-4364-99c9-9801d1770f9d",
   "metadata": {},
   "outputs": [
    {
     "data": {
      "text/plain": [
       "True"
      ]
     },
     "execution_count": 12,
     "metadata": {},
     "output_type": "execute_result"
    }
   ],
   "source": [
    "cv.imwrite('./image/car_gray_using_np.jpg', gray)"
   ]
  },
  {
   "cell_type": "markdown",
   "id": "6bac0c94-4e86-45b7-93b3-11e09b16a661",
   "metadata": {},
   "source": [
    "Reduce the matrix by taking 1 pixel out of 2"
   ]
  },
  {
   "cell_type": "code",
   "execution_count": 43,
   "id": "752401df-a491-4ca3-8975-d1a0efc2a7b3",
   "metadata": {},
   "outputs": [],
   "source": [
    "compressed = gray[::2,::2] # Divide height and width by 2"
   ]
  },
  {
   "cell_type": "code",
   "execution_count": 40,
   "id": "26e33149-5da4-45b3-ae6c-f6a803a1cc0d",
   "metadata": {},
   "outputs": [],
   "source": [
    "cv.imshow(\"compressed image\", compressed)\n",
    "cv.waitKey(0)\n",
    "cv.destroyAllWindows()"
   ]
  },
  {
   "cell_type": "markdown",
   "id": "0d62a112-9f3f-4369-a699-3f3873249b24",
   "metadata": {},
   "source": [
    "save the compressed image"
   ]
  },
  {
   "cell_type": "code",
   "execution_count": 45,
   "id": "69b2c1d1-6dff-4e50-b9fb-1277ed8c4d66",
   "metadata": {},
   "outputs": [
    {
     "data": {
      "text/plain": [
       "True"
      ]
     },
     "execution_count": 45,
     "metadata": {},
     "output_type": "execute_result"
    }
   ],
   "source": [
    "cv.imwrite('./image/car_compressed_using_np.jpg', compressed)"
   ]
  },
  {
   "cell_type": "code",
   "execution_count": 35,
   "id": "8c68d5e5-21bd-4594-a4b7-8cac28c8ab8f",
   "metadata": {},
   "outputs": [
    {
     "data": {
      "text/plain": [
       "(540, 540)"
      ]
     },
     "execution_count": 35,
     "metadata": {},
     "output_type": "execute_result"
    }
   ],
   "source": [
    "compressed.shape"
   ]
  },
  {
   "cell_type": "code",
   "execution_count": null,
   "id": "f8703651-45e6-448d-9ff7-8c84db7c79b6",
   "metadata": {},
   "outputs": [],
   "source": []
  }
 ],
 "metadata": {
  "kernelspec": {
   "display_name": "Python [conda env:base] *",
   "language": "python",
   "name": "conda-base-py"
  },
  "language_info": {
   "codemirror_mode": {
    "name": "ipython",
    "version": 3
   },
   "file_extension": ".py",
   "mimetype": "text/x-python",
   "name": "python",
   "nbconvert_exporter": "python",
   "pygments_lexer": "ipython3",
   "version": "3.12.7"
  }
 },
 "nbformat": 4,
 "nbformat_minor": 5
}
